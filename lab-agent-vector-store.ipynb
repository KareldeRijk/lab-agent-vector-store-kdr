{
 "cells": [
  {
   "cell_type": "markdown",
   "id": "efad6479-7fb1-40c4-8610-8963f8de307f",
   "metadata": {},
   "source": [
    "# Lab | Agent & Vector store\n",
    "\n",
    "**Change the state union dataset and replicate this lab by updating the prompts accordingly.**\n",
    "\n",
    "One such dataset is the [sonnets.txt](https://github.com/martin-gorner/tensorflow-rnn-shakespeare/blob/master/shakespeare/sonnets.txt) dataset or any other data of your choice from the same git."
   ]
  },
  {
   "cell_type": "markdown",
   "id": "68b24990",
   "metadata": {},
   "source": [
    "# Combine agents and vector stores\n",
    "\n",
    "This notebook covers how to combine agents and vector stores. The use case for this is that you've ingested your data into a vector store and want to interact with it in an agentic manner.\n",
    "\n",
    "The recommended method for doing so is to create a `RetrievalQA` and then use that as a tool in the overall agent. Let's take a look at doing this below. You can do this with multiple different vector DBs, and use the agent as a way to route between them. There are two different ways of doing this - you can either let the agent use the vector stores as normal tools, or you can set `return_direct=True` to really just use the agent as a router."
   ]
  },
  {
   "cell_type": "markdown",
   "id": "9b22020a",
   "metadata": {},
   "source": [
    "## Create the vector store"
   ]
  },
  {
   "cell_type": "code",
   "execution_count": 1,
   "id": "12df91e0-7322-43c2-96cd-0159d017a1e1",
   "metadata": {
    "tags": []
   },
   "outputs": [
    {
     "name": "stdout",
     "output_type": "stream",
     "text": [
      "Collecting chromadb\n",
      "  Downloading chromadb-1.0.12-cp39-abi3-win_amd64.whl.metadata (7.0 kB)\n",
      "Requirement already satisfied: langchain in c:\\users\\karel\\appdata\\local\\packages\\pythonsoftwarefoundation.python.3.11_qbz5n2kfra8p0\\localcache\\local-packages\\python311\\site-packages (0.3.25)\n",
      "Requirement already satisfied: langchain_community in c:\\users\\karel\\appdata\\local\\packages\\pythonsoftwarefoundation.python.3.11_qbz5n2kfra8p0\\localcache\\local-packages\\python311\\site-packages (0.3.25)\n",
      "Requirement already satisfied: langchain_openai in c:\\users\\karel\\appdata\\local\\packages\\pythonsoftwarefoundation.python.3.11_qbz5n2kfra8p0\\localcache\\local-packages\\python311\\site-packages (0.3.23)\n",
      "Collecting build>=1.0.3 (from chromadb)\n",
      "  Downloading build-1.2.2.post1-py3-none-any.whl.metadata (6.5 kB)\n",
      "Requirement already satisfied: pydantic>=1.9 in c:\\users\\karel\\appdata\\local\\packages\\pythonsoftwarefoundation.python.3.11_qbz5n2kfra8p0\\localcache\\local-packages\\python311\\site-packages (from chromadb) (2.11.5)\n",
      "Collecting fastapi==0.115.9 (from chromadb)\n",
      "  Downloading fastapi-0.115.9-py3-none-any.whl.metadata (27 kB)\n",
      "Requirement already satisfied: uvicorn>=0.18.3 in c:\\users\\karel\\appdata\\local\\packages\\pythonsoftwarefoundation.python.3.11_qbz5n2kfra8p0\\localcache\\local-packages\\python311\\site-packages (from uvicorn[standard]>=0.18.3->chromadb) (0.34.3)\n",
      "Requirement already satisfied: numpy>=1.22.5 in c:\\users\\karel\\appdata\\local\\packages\\pythonsoftwarefoundation.python.3.11_qbz5n2kfra8p0\\localcache\\local-packages\\python311\\site-packages (from chromadb) (2.1.3)\n",
      "Collecting posthog>=2.4.0 (from chromadb)\n",
      "  Downloading posthog-5.0.0-py3-none-any.whl.metadata (4.9 kB)\n",
      "Requirement already satisfied: typing-extensions>=4.5.0 in c:\\users\\karel\\appdata\\local\\packages\\pythonsoftwarefoundation.python.3.11_qbz5n2kfra8p0\\localcache\\local-packages\\python311\\site-packages (from chromadb) (4.13.1)\n",
      "Collecting onnxruntime>=1.14.1 (from chromadb)\n",
      "  Downloading onnxruntime-1.22.0-cp311-cp311-win_amd64.whl.metadata (5.0 kB)\n",
      "Collecting opentelemetry-api>=1.2.0 (from chromadb)\n",
      "  Downloading opentelemetry_api-1.34.1-py3-none-any.whl.metadata (1.5 kB)\n",
      "Collecting opentelemetry-exporter-otlp-proto-grpc>=1.2.0 (from chromadb)\n",
      "  Downloading opentelemetry_exporter_otlp_proto_grpc-1.34.1-py3-none-any.whl.metadata (2.4 kB)\n",
      "Collecting opentelemetry-instrumentation-fastapi>=0.41b0 (from chromadb)\n",
      "  Downloading opentelemetry_instrumentation_fastapi-0.55b1-py3-none-any.whl.metadata (2.2 kB)\n",
      "Collecting opentelemetry-sdk>=1.2.0 (from chromadb)\n",
      "  Downloading opentelemetry_sdk-1.34.1-py3-none-any.whl.metadata (1.6 kB)\n",
      "Requirement already satisfied: tokenizers>=0.13.2 in c:\\users\\karel\\appdata\\local\\packages\\pythonsoftwarefoundation.python.3.11_qbz5n2kfra8p0\\localcache\\local-packages\\python311\\site-packages (from chromadb) (0.21.1)\n",
      "Collecting pypika>=0.48.9 (from chromadb)\n",
      "  Downloading PyPika-0.48.9.tar.gz (67 kB)\n",
      "  Installing build dependencies: started\n",
      "  Installing build dependencies: finished with status 'done'\n",
      "  Getting requirements to build wheel: started\n",
      "  Getting requirements to build wheel: finished with status 'done'\n",
      "  Preparing metadata (pyproject.toml): started\n",
      "  Preparing metadata (pyproject.toml): finished with status 'done'\n",
      "Requirement already satisfied: tqdm>=4.65.0 in c:\\users\\karel\\appdata\\local\\packages\\pythonsoftwarefoundation.python.3.11_qbz5n2kfra8p0\\localcache\\local-packages\\python311\\site-packages (from chromadb) (4.67.1)\n",
      "Requirement already satisfied: overrides>=7.3.1 in c:\\users\\karel\\appdata\\local\\packages\\pythonsoftwarefoundation.python.3.11_qbz5n2kfra8p0\\localcache\\local-packages\\python311\\site-packages (from chromadb) (7.7.0)\n",
      "Collecting importlib-resources (from chromadb)\n",
      "  Downloading importlib_resources-6.5.2-py3-none-any.whl.metadata (3.9 kB)\n",
      "Requirement already satisfied: grpcio>=1.58.0 in c:\\users\\karel\\appdata\\local\\packages\\pythonsoftwarefoundation.python.3.11_qbz5n2kfra8p0\\localcache\\local-packages\\python311\\site-packages (from chromadb) (1.71.0)\n",
      "Collecting bcrypt>=4.0.1 (from chromadb)\n",
      "  Downloading bcrypt-4.3.0-cp39-abi3-win_amd64.whl.metadata (10 kB)\n",
      "Requirement already satisfied: typer>=0.9.0 in c:\\users\\karel\\appdata\\local\\packages\\pythonsoftwarefoundation.python.3.11_qbz5n2kfra8p0\\localcache\\local-packages\\python311\\site-packages (from chromadb) (0.16.0)\n",
      "Collecting kubernetes>=28.1.0 (from chromadb)\n",
      "  Downloading kubernetes-33.1.0-py2.py3-none-any.whl.metadata (1.7 kB)\n",
      "Requirement already satisfied: tenacity>=8.2.3 in c:\\users\\karel\\appdata\\local\\packages\\pythonsoftwarefoundation.python.3.11_qbz5n2kfra8p0\\localcache\\local-packages\\python311\\site-packages (from chromadb) (9.1.2)\n",
      "Requirement already satisfied: pyyaml>=6.0.0 in c:\\users\\karel\\appdata\\local\\packages\\pythonsoftwarefoundation.python.3.11_qbz5n2kfra8p0\\localcache\\local-packages\\python311\\site-packages (from chromadb) (6.0.2)\n",
      "Collecting mmh3>=4.0.1 (from chromadb)\n",
      "  Downloading mmh3-5.1.0-cp311-cp311-win_amd64.whl.metadata (16 kB)\n",
      "Requirement already satisfied: orjson>=3.9.12 in c:\\users\\karel\\appdata\\local\\packages\\pythonsoftwarefoundation.python.3.11_qbz5n2kfra8p0\\localcache\\local-packages\\python311\\site-packages (from chromadb) (3.10.18)\n",
      "Requirement already satisfied: httpx>=0.27.0 in c:\\users\\karel\\appdata\\local\\packages\\pythonsoftwarefoundation.python.3.11_qbz5n2kfra8p0\\localcache\\local-packages\\python311\\site-packages (from chromadb) (0.28.1)\n",
      "Requirement already satisfied: rich>=10.11.0 in c:\\users\\karel\\appdata\\local\\packages\\pythonsoftwarefoundation.python.3.11_qbz5n2kfra8p0\\localcache\\local-packages\\python311\\site-packages (from chromadb) (14.0.0)\n",
      "Requirement already satisfied: jsonschema>=4.19.0 in c:\\users\\karel\\appdata\\local\\packages\\pythonsoftwarefoundation.python.3.11_qbz5n2kfra8p0\\localcache\\local-packages\\python311\\site-packages (from chromadb) (4.23.0)\n",
      "Collecting starlette<0.46.0,>=0.40.0 (from fastapi==0.115.9->chromadb)\n",
      "  Downloading starlette-0.45.3-py3-none-any.whl.metadata (6.3 kB)\n",
      "Requirement already satisfied: annotated-types>=0.6.0 in c:\\users\\karel\\appdata\\local\\packages\\pythonsoftwarefoundation.python.3.11_qbz5n2kfra8p0\\localcache\\local-packages\\python311\\site-packages (from pydantic>=1.9->chromadb) (0.7.0)\n",
      "Requirement already satisfied: pydantic-core==2.33.2 in c:\\users\\karel\\appdata\\local\\packages\\pythonsoftwarefoundation.python.3.11_qbz5n2kfra8p0\\localcache\\local-packages\\python311\\site-packages (from pydantic>=1.9->chromadb) (2.33.2)\n",
      "Requirement already satisfied: typing-inspection>=0.4.0 in c:\\users\\karel\\appdata\\local\\packages\\pythonsoftwarefoundation.python.3.11_qbz5n2kfra8p0\\localcache\\local-packages\\python311\\site-packages (from pydantic>=1.9->chromadb) (0.4.1)\n",
      "Requirement already satisfied: anyio<5,>=3.6.2 in c:\\users\\karel\\appdata\\local\\packages\\pythonsoftwarefoundation.python.3.11_qbz5n2kfra8p0\\localcache\\local-packages\\python311\\site-packages (from starlette<0.46.0,>=0.40.0->fastapi==0.115.9->chromadb) (4.9.0)\n",
      "Requirement already satisfied: idna>=2.8 in c:\\users\\karel\\appdata\\local\\packages\\pythonsoftwarefoundation.python.3.11_qbz5n2kfra8p0\\localcache\\local-packages\\python311\\site-packages (from anyio<5,>=3.6.2->starlette<0.46.0,>=0.40.0->fastapi==0.115.9->chromadb) (3.10)\n",
      "Requirement already satisfied: sniffio>=1.1 in c:\\users\\karel\\appdata\\local\\packages\\pythonsoftwarefoundation.python.3.11_qbz5n2kfra8p0\\localcache\\local-packages\\python311\\site-packages (from anyio<5,>=3.6.2->starlette<0.46.0,>=0.40.0->fastapi==0.115.9->chromadb) (1.3.1)\n",
      "Requirement already satisfied: langchain-core<1.0.0,>=0.3.58 in c:\\users\\karel\\appdata\\local\\packages\\pythonsoftwarefoundation.python.3.11_qbz5n2kfra8p0\\localcache\\local-packages\\python311\\site-packages (from langchain) (0.3.65)\n",
      "Requirement already satisfied: langchain-text-splitters<1.0.0,>=0.3.8 in c:\\users\\karel\\appdata\\local\\packages\\pythonsoftwarefoundation.python.3.11_qbz5n2kfra8p0\\localcache\\local-packages\\python311\\site-packages (from langchain) (0.3.8)\n",
      "Requirement already satisfied: langsmith<0.4,>=0.1.17 in c:\\users\\karel\\appdata\\local\\packages\\pythonsoftwarefoundation.python.3.11_qbz5n2kfra8p0\\localcache\\local-packages\\python311\\site-packages (from langchain) (0.3.45)\n",
      "Requirement already satisfied: SQLAlchemy<3,>=1.4 in c:\\users\\karel\\appdata\\local\\packages\\pythonsoftwarefoundation.python.3.11_qbz5n2kfra8p0\\localcache\\local-packages\\python311\\site-packages (from langchain) (2.0.41)\n",
      "Requirement already satisfied: requests<3,>=2 in c:\\users\\karel\\appdata\\local\\packages\\pythonsoftwarefoundation.python.3.11_qbz5n2kfra8p0\\localcache\\local-packages\\python311\\site-packages (from langchain) (2.32.3)\n",
      "Requirement already satisfied: jsonpatch<2.0,>=1.33 in c:\\users\\karel\\appdata\\local\\packages\\pythonsoftwarefoundation.python.3.11_qbz5n2kfra8p0\\localcache\\local-packages\\python311\\site-packages (from langchain-core<1.0.0,>=0.3.58->langchain) (1.33)\n",
      "Requirement already satisfied: packaging<25,>=23.2 in c:\\users\\karel\\appdata\\local\\packages\\pythonsoftwarefoundation.python.3.11_qbz5n2kfra8p0\\localcache\\local-packages\\python311\\site-packages (from langchain-core<1.0.0,>=0.3.58->langchain) (24.2)\n",
      "Requirement already satisfied: jsonpointer>=1.9 in c:\\users\\karel\\appdata\\local\\packages\\pythonsoftwarefoundation.python.3.11_qbz5n2kfra8p0\\localcache\\local-packages\\python311\\site-packages (from jsonpatch<2.0,>=1.33->langchain-core<1.0.0,>=0.3.58->langchain) (3.0.0)\n",
      "Requirement already satisfied: requests-toolbelt<2.0.0,>=1.0.0 in c:\\users\\karel\\appdata\\local\\packages\\pythonsoftwarefoundation.python.3.11_qbz5n2kfra8p0\\localcache\\local-packages\\python311\\site-packages (from langsmith<0.4,>=0.1.17->langchain) (1.0.0)\n",
      "Requirement already satisfied: zstandard<0.24.0,>=0.23.0 in c:\\users\\karel\\appdata\\local\\packages\\pythonsoftwarefoundation.python.3.11_qbz5n2kfra8p0\\localcache\\local-packages\\python311\\site-packages (from langsmith<0.4,>=0.1.17->langchain) (0.23.0)\n",
      "Requirement already satisfied: certifi in c:\\users\\karel\\appdata\\local\\packages\\pythonsoftwarefoundation.python.3.11_qbz5n2kfra8p0\\localcache\\local-packages\\python311\\site-packages (from httpx>=0.27.0->chromadb) (2025.1.31)\n",
      "Requirement already satisfied: httpcore==1.* in c:\\users\\karel\\appdata\\local\\packages\\pythonsoftwarefoundation.python.3.11_qbz5n2kfra8p0\\localcache\\local-packages\\python311\\site-packages (from httpx>=0.27.0->chromadb) (1.0.7)\n",
      "Requirement already satisfied: h11<0.15,>=0.13 in c:\\users\\karel\\appdata\\local\\packages\\pythonsoftwarefoundation.python.3.11_qbz5n2kfra8p0\\localcache\\local-packages\\python311\\site-packages (from httpcore==1.*->httpx>=0.27.0->chromadb) (0.14.0)\n",
      "Requirement already satisfied: charset-normalizer<4,>=2 in c:\\users\\karel\\appdata\\local\\packages\\pythonsoftwarefoundation.python.3.11_qbz5n2kfra8p0\\localcache\\local-packages\\python311\\site-packages (from requests<3,>=2->langchain) (3.4.1)\n",
      "Requirement already satisfied: urllib3<3,>=1.21.1 in c:\\users\\karel\\appdata\\local\\packages\\pythonsoftwarefoundation.python.3.11_qbz5n2kfra8p0\\localcache\\local-packages\\python311\\site-packages (from requests<3,>=2->langchain) (2.3.0)\n",
      "Requirement already satisfied: greenlet>=1 in c:\\users\\karel\\appdata\\local\\packages\\pythonsoftwarefoundation.python.3.11_qbz5n2kfra8p0\\localcache\\local-packages\\python311\\site-packages (from SQLAlchemy<3,>=1.4->langchain) (3.2.3)\n",
      "Requirement already satisfied: aiohttp<4.0.0,>=3.8.3 in c:\\users\\karel\\appdata\\local\\packages\\pythonsoftwarefoundation.python.3.11_qbz5n2kfra8p0\\localcache\\local-packages\\python311\\site-packages (from langchain_community) (3.12.11)\n",
      "Requirement already satisfied: dataclasses-json<0.7,>=0.5.7 in c:\\users\\karel\\appdata\\local\\packages\\pythonsoftwarefoundation.python.3.11_qbz5n2kfra8p0\\localcache\\local-packages\\python311\\site-packages (from langchain_community) (0.6.7)\n",
      "Requirement already satisfied: pydantic-settings<3.0.0,>=2.4.0 in c:\\users\\karel\\appdata\\local\\packages\\pythonsoftwarefoundation.python.3.11_qbz5n2kfra8p0\\localcache\\local-packages\\python311\\site-packages (from langchain_community) (2.9.1)\n",
      "Requirement already satisfied: httpx-sse<1.0.0,>=0.4.0 in c:\\users\\karel\\appdata\\local\\packages\\pythonsoftwarefoundation.python.3.11_qbz5n2kfra8p0\\localcache\\local-packages\\python311\\site-packages (from langchain_community) (0.4.0)\n",
      "Requirement already satisfied: aiohappyeyeballs>=2.5.0 in c:\\users\\karel\\appdata\\local\\packages\\pythonsoftwarefoundation.python.3.11_qbz5n2kfra8p0\\localcache\\local-packages\\python311\\site-packages (from aiohttp<4.0.0,>=3.8.3->langchain_community) (2.6.1)\n",
      "Requirement already satisfied: aiosignal>=1.1.2 in c:\\users\\karel\\appdata\\local\\packages\\pythonsoftwarefoundation.python.3.11_qbz5n2kfra8p0\\localcache\\local-packages\\python311\\site-packages (from aiohttp<4.0.0,>=3.8.3->langchain_community) (1.3.2)\n",
      "Requirement already satisfied: attrs>=17.3.0 in c:\\users\\karel\\appdata\\local\\packages\\pythonsoftwarefoundation.python.3.11_qbz5n2kfra8p0\\localcache\\local-packages\\python311\\site-packages (from aiohttp<4.0.0,>=3.8.3->langchain_community) (25.3.0)\n",
      "Requirement already satisfied: frozenlist>=1.1.1 in c:\\users\\karel\\appdata\\local\\packages\\pythonsoftwarefoundation.python.3.11_qbz5n2kfra8p0\\localcache\\local-packages\\python311\\site-packages (from aiohttp<4.0.0,>=3.8.3->langchain_community) (1.6.2)\n",
      "Requirement already satisfied: multidict<7.0,>=4.5 in c:\\users\\karel\\appdata\\local\\packages\\pythonsoftwarefoundation.python.3.11_qbz5n2kfra8p0\\localcache\\local-packages\\python311\\site-packages (from aiohttp<4.0.0,>=3.8.3->langchain_community) (6.4.4)\n",
      "Requirement already satisfied: propcache>=0.2.0 in c:\\users\\karel\\appdata\\local\\packages\\pythonsoftwarefoundation.python.3.11_qbz5n2kfra8p0\\localcache\\local-packages\\python311\\site-packages (from aiohttp<4.0.0,>=3.8.3->langchain_community) (0.3.1)\n",
      "Requirement already satisfied: yarl<2.0,>=1.17.0 in c:\\users\\karel\\appdata\\local\\packages\\pythonsoftwarefoundation.python.3.11_qbz5n2kfra8p0\\localcache\\local-packages\\python311\\site-packages (from aiohttp<4.0.0,>=3.8.3->langchain_community) (1.20.0)\n",
      "Requirement already satisfied: marshmallow<4.0.0,>=3.18.0 in c:\\users\\karel\\appdata\\local\\packages\\pythonsoftwarefoundation.python.3.11_qbz5n2kfra8p0\\localcache\\local-packages\\python311\\site-packages (from dataclasses-json<0.7,>=0.5.7->langchain_community) (3.26.1)\n",
      "Requirement already satisfied: typing-inspect<1,>=0.4.0 in c:\\users\\karel\\appdata\\local\\packages\\pythonsoftwarefoundation.python.3.11_qbz5n2kfra8p0\\localcache\\local-packages\\python311\\site-packages (from dataclasses-json<0.7,>=0.5.7->langchain_community) (0.9.0)\n",
      "Requirement already satisfied: python-dotenv>=0.21.0 in c:\\users\\karel\\appdata\\local\\packages\\pythonsoftwarefoundation.python.3.11_qbz5n2kfra8p0\\localcache\\local-packages\\python311\\site-packages (from pydantic-settings<3.0.0,>=2.4.0->langchain_community) (1.1.0)\n",
      "Requirement already satisfied: mypy-extensions>=0.3.0 in c:\\users\\karel\\appdata\\local\\packages\\pythonsoftwarefoundation.python.3.11_qbz5n2kfra8p0\\localcache\\local-packages\\python311\\site-packages (from typing-inspect<1,>=0.4.0->dataclasses-json<0.7,>=0.5.7->langchain_community) (1.1.0)\n",
      "Requirement already satisfied: openai<2.0.0,>=1.68.2 in c:\\users\\karel\\appdata\\local\\packages\\pythonsoftwarefoundation.python.3.11_qbz5n2kfra8p0\\localcache\\local-packages\\python311\\site-packages (from langchain_openai) (1.83.0)\n",
      "Requirement already satisfied: tiktoken<1,>=0.7 in c:\\users\\karel\\appdata\\local\\packages\\pythonsoftwarefoundation.python.3.11_qbz5n2kfra8p0\\localcache\\local-packages\\python311\\site-packages (from langchain_openai) (0.9.0)\n",
      "Requirement already satisfied: distro<2,>=1.7.0 in c:\\users\\karel\\appdata\\local\\packages\\pythonsoftwarefoundation.python.3.11_qbz5n2kfra8p0\\localcache\\local-packages\\python311\\site-packages (from openai<2.0.0,>=1.68.2->langchain_openai) (1.9.0)\n",
      "Requirement already satisfied: jiter<1,>=0.4.0 in c:\\users\\karel\\appdata\\local\\packages\\pythonsoftwarefoundation.python.3.11_qbz5n2kfra8p0\\localcache\\local-packages\\python311\\site-packages (from openai<2.0.0,>=1.68.2->langchain_openai) (0.10.0)\n",
      "Requirement already satisfied: regex>=2022.1.18 in c:\\users\\karel\\appdata\\local\\packages\\pythonsoftwarefoundation.python.3.11_qbz5n2kfra8p0\\localcache\\local-packages\\python311\\site-packages (from tiktoken<1,>=0.7->langchain_openai) (2024.11.6)\n",
      "Collecting pyproject_hooks (from build>=1.0.3->chromadb)\n",
      "  Downloading pyproject_hooks-1.2.0-py3-none-any.whl.metadata (1.3 kB)\n",
      "Requirement already satisfied: colorama in c:\\users\\karel\\appdata\\local\\packages\\pythonsoftwarefoundation.python.3.11_qbz5n2kfra8p0\\localcache\\local-packages\\python311\\site-packages (from build>=1.0.3->chromadb) (0.4.6)\n",
      "Requirement already satisfied: jsonschema-specifications>=2023.03.6 in c:\\users\\karel\\appdata\\local\\packages\\pythonsoftwarefoundation.python.3.11_qbz5n2kfra8p0\\localcache\\local-packages\\python311\\site-packages (from jsonschema>=4.19.0->chromadb) (2024.10.1)\n",
      "Requirement already satisfied: referencing>=0.28.4 in c:\\users\\karel\\appdata\\local\\packages\\pythonsoftwarefoundation.python.3.11_qbz5n2kfra8p0\\localcache\\local-packages\\python311\\site-packages (from jsonschema>=4.19.0->chromadb) (0.36.2)\n",
      "Requirement already satisfied: rpds-py>=0.7.1 in c:\\users\\karel\\appdata\\local\\packages\\pythonsoftwarefoundation.python.3.11_qbz5n2kfra8p0\\localcache\\local-packages\\python311\\site-packages (from jsonschema>=4.19.0->chromadb) (0.24.0)\n",
      "Requirement already satisfied: six>=1.9.0 in c:\\users\\karel\\appdata\\local\\packages\\pythonsoftwarefoundation.python.3.11_qbz5n2kfra8p0\\localcache\\local-packages\\python311\\site-packages (from kubernetes>=28.1.0->chromadb) (1.17.0)\n",
      "Requirement already satisfied: python-dateutil>=2.5.3 in c:\\users\\karel\\appdata\\local\\packages\\pythonsoftwarefoundation.python.3.11_qbz5n2kfra8p0\\localcache\\local-packages\\python311\\site-packages (from kubernetes>=28.1.0->chromadb) (2.9.0.post0)\n",
      "Collecting google-auth>=1.0.1 (from kubernetes>=28.1.0->chromadb)\n",
      "  Downloading google_auth-2.40.3-py2.py3-none-any.whl.metadata (6.2 kB)\n",
      "Requirement already satisfied: websocket-client!=0.40.0,!=0.41.*,!=0.42.*,>=0.32.0 in c:\\users\\karel\\appdata\\local\\packages\\pythonsoftwarefoundation.python.3.11_qbz5n2kfra8p0\\localcache\\local-packages\\python311\\site-packages (from kubernetes>=28.1.0->chromadb) (1.8.0)\n",
      "Collecting requests-oauthlib (from kubernetes>=28.1.0->chromadb)\n",
      "  Downloading requests_oauthlib-2.0.0-py2.py3-none-any.whl.metadata (11 kB)\n",
      "Collecting oauthlib>=3.2.2 (from kubernetes>=28.1.0->chromadb)\n",
      "  Downloading oauthlib-3.3.0-py3-none-any.whl.metadata (7.9 kB)\n",
      "Collecting durationpy>=0.7 (from kubernetes>=28.1.0->chromadb)\n",
      "  Downloading durationpy-0.10-py3-none-any.whl.metadata (340 bytes)\n",
      "Collecting cachetools<6.0,>=2.0.0 (from google-auth>=1.0.1->kubernetes>=28.1.0->chromadb)\n",
      "  Downloading cachetools-5.5.2-py3-none-any.whl.metadata (5.4 kB)\n",
      "Collecting pyasn1-modules>=0.2.1 (from google-auth>=1.0.1->kubernetes>=28.1.0->chromadb)\n",
      "  Downloading pyasn1_modules-0.4.2-py3-none-any.whl.metadata (3.5 kB)\n",
      "Collecting rsa<5,>=3.1.4 (from google-auth>=1.0.1->kubernetes>=28.1.0->chromadb)\n",
      "  Downloading rsa-4.9.1-py3-none-any.whl.metadata (5.6 kB)\n",
      "Collecting pyasn1>=0.1.3 (from rsa<5,>=3.1.4->google-auth>=1.0.1->kubernetes>=28.1.0->chromadb)\n",
      "  Downloading pyasn1-0.6.1-py3-none-any.whl.metadata (8.4 kB)\n",
      "Collecting coloredlogs (from onnxruntime>=1.14.1->chromadb)\n",
      "  Downloading coloredlogs-15.0.1-py2.py3-none-any.whl.metadata (12 kB)\n",
      "Requirement already satisfied: flatbuffers in c:\\users\\karel\\appdata\\local\\packages\\pythonsoftwarefoundation.python.3.11_qbz5n2kfra8p0\\localcache\\local-packages\\python311\\site-packages (from onnxruntime>=1.14.1->chromadb) (25.2.10)\n",
      "Requirement already satisfied: protobuf in c:\\users\\karel\\appdata\\local\\packages\\pythonsoftwarefoundation.python.3.11_qbz5n2kfra8p0\\localcache\\local-packages\\python311\\site-packages (from onnxruntime>=1.14.1->chromadb) (5.29.4)\n",
      "Requirement already satisfied: sympy in c:\\users\\karel\\appdata\\local\\packages\\pythonsoftwarefoundation.python.3.11_qbz5n2kfra8p0\\localcache\\local-packages\\python311\\site-packages (from onnxruntime>=1.14.1->chromadb) (1.14.0)\n",
      "Collecting importlib-metadata<8.8.0,>=6.0 (from opentelemetry-api>=1.2.0->chromadb)\n",
      "  Downloading importlib_metadata-8.7.0-py3-none-any.whl.metadata (4.8 kB)\n",
      "Collecting zipp>=3.20 (from importlib-metadata<8.8.0,>=6.0->opentelemetry-api>=1.2.0->chromadb)\n",
      "  Downloading zipp-3.23.0-py3-none-any.whl.metadata (3.6 kB)\n",
      "Collecting googleapis-common-protos~=1.52 (from opentelemetry-exporter-otlp-proto-grpc>=1.2.0->chromadb)\n",
      "  Downloading googleapis_common_protos-1.70.0-py3-none-any.whl.metadata (9.3 kB)\n",
      "Collecting opentelemetry-exporter-otlp-proto-common==1.34.1 (from opentelemetry-exporter-otlp-proto-grpc>=1.2.0->chromadb)\n",
      "  Downloading opentelemetry_exporter_otlp_proto_common-1.34.1-py3-none-any.whl.metadata (1.9 kB)\n",
      "Collecting opentelemetry-proto==1.34.1 (from opentelemetry-exporter-otlp-proto-grpc>=1.2.0->chromadb)\n",
      "  Downloading opentelemetry_proto-1.34.1-py3-none-any.whl.metadata (2.4 kB)\n",
      "Collecting opentelemetry-semantic-conventions==0.55b1 (from opentelemetry-sdk>=1.2.0->chromadb)\n",
      "  Downloading opentelemetry_semantic_conventions-0.55b1-py3-none-any.whl.metadata (2.5 kB)\n",
      "Collecting opentelemetry-instrumentation-asgi==0.55b1 (from opentelemetry-instrumentation-fastapi>=0.41b0->chromadb)\n",
      "  Downloading opentelemetry_instrumentation_asgi-0.55b1-py3-none-any.whl.metadata (2.0 kB)\n",
      "Collecting opentelemetry-instrumentation==0.55b1 (from opentelemetry-instrumentation-fastapi>=0.41b0->chromadb)\n",
      "  Downloading opentelemetry_instrumentation-0.55b1-py3-none-any.whl.metadata (6.7 kB)\n",
      "Collecting opentelemetry-util-http==0.55b1 (from opentelemetry-instrumentation-fastapi>=0.41b0->chromadb)\n",
      "  Downloading opentelemetry_util_http-0.55b1-py3-none-any.whl.metadata (2.6 kB)\n",
      "Requirement already satisfied: wrapt<2.0.0,>=1.0.0 in c:\\users\\karel\\appdata\\local\\packages\\pythonsoftwarefoundation.python.3.11_qbz5n2kfra8p0\\localcache\\local-packages\\python311\\site-packages (from opentelemetry-instrumentation==0.55b1->opentelemetry-instrumentation-fastapi>=0.41b0->chromadb) (1.17.2)\n",
      "Collecting asgiref~=3.0 (from opentelemetry-instrumentation-asgi==0.55b1->opentelemetry-instrumentation-fastapi>=0.41b0->chromadb)\n",
      "  Downloading asgiref-3.8.1-py3-none-any.whl.metadata (9.3 kB)\n",
      "Collecting backoff>=1.10.0 (from posthog>=2.4.0->chromadb)\n",
      "  Downloading backoff-2.2.1-py3-none-any.whl.metadata (14 kB)\n",
      "Requirement already satisfied: markdown-it-py>=2.2.0 in c:\\users\\karel\\appdata\\local\\packages\\pythonsoftwarefoundation.python.3.11_qbz5n2kfra8p0\\localcache\\local-packages\\python311\\site-packages (from rich>=10.11.0->chromadb) (3.0.0)\n",
      "Requirement already satisfied: pygments<3.0.0,>=2.13.0 in c:\\users\\karel\\appdata\\local\\packages\\pythonsoftwarefoundation.python.3.11_qbz5n2kfra8p0\\localcache\\local-packages\\python311\\site-packages (from rich>=10.11.0->chromadb) (2.19.1)\n",
      "Requirement already satisfied: mdurl~=0.1 in c:\\users\\karel\\appdata\\local\\packages\\pythonsoftwarefoundation.python.3.11_qbz5n2kfra8p0\\localcache\\local-packages\\python311\\site-packages (from markdown-it-py>=2.2.0->rich>=10.11.0->chromadb) (0.1.2)\n",
      "Requirement already satisfied: huggingface-hub<1.0,>=0.16.4 in c:\\users\\karel\\appdata\\local\\packages\\pythonsoftwarefoundation.python.3.11_qbz5n2kfra8p0\\localcache\\local-packages\\python311\\site-packages (from tokenizers>=0.13.2->chromadb) (0.32.4)\n",
      "Requirement already satisfied: filelock in c:\\users\\karel\\appdata\\local\\packages\\pythonsoftwarefoundation.python.3.11_qbz5n2kfra8p0\\localcache\\local-packages\\python311\\site-packages (from huggingface-hub<1.0,>=0.16.4->tokenizers>=0.13.2->chromadb) (3.18.0)\n",
      "Requirement already satisfied: fsspec>=2023.5.0 in c:\\users\\karel\\appdata\\local\\packages\\pythonsoftwarefoundation.python.3.11_qbz5n2kfra8p0\\localcache\\local-packages\\python311\\site-packages (from huggingface-hub<1.0,>=0.16.4->tokenizers>=0.13.2->chromadb) (2025.3.0)\n",
      "Requirement already satisfied: click>=8.0.0 in c:\\users\\karel\\appdata\\local\\packages\\pythonsoftwarefoundation.python.3.11_qbz5n2kfra8p0\\localcache\\local-packages\\python311\\site-packages (from typer>=0.9.0->chromadb) (8.2.1)\n",
      "Requirement already satisfied: shellingham>=1.3.0 in c:\\users\\karel\\appdata\\local\\packages\\pythonsoftwarefoundation.python.3.11_qbz5n2kfra8p0\\localcache\\local-packages\\python311\\site-packages (from typer>=0.9.0->chromadb) (1.5.4)\n",
      "Collecting httptools>=0.6.3 (from uvicorn[standard]>=0.18.3->chromadb)\n",
      "  Downloading httptools-0.6.4-cp311-cp311-win_amd64.whl.metadata (3.7 kB)\n",
      "Collecting watchfiles>=0.13 (from uvicorn[standard]>=0.18.3->chromadb)\n",
      "  Downloading watchfiles-1.1.0-cp311-cp311-win_amd64.whl.metadata (5.0 kB)\n",
      "Requirement already satisfied: websockets>=10.4 in c:\\users\\karel\\appdata\\local\\packages\\pythonsoftwarefoundation.python.3.11_qbz5n2kfra8p0\\localcache\\local-packages\\python311\\site-packages (from uvicorn[standard]>=0.18.3->chromadb) (15.0.1)\n",
      "Collecting humanfriendly>=9.1 (from coloredlogs->onnxruntime>=1.14.1->chromadb)\n",
      "  Downloading humanfriendly-10.0-py2.py3-none-any.whl.metadata (9.2 kB)\n",
      "Collecting pyreadline3 (from humanfriendly>=9.1->coloredlogs->onnxruntime>=1.14.1->chromadb)\n",
      "  Downloading pyreadline3-3.5.4-py3-none-any.whl.metadata (4.7 kB)\n",
      "Requirement already satisfied: mpmath<1.4,>=1.1.0 in c:\\users\\karel\\appdata\\local\\packages\\pythonsoftwarefoundation.python.3.11_qbz5n2kfra8p0\\localcache\\local-packages\\python311\\site-packages (from sympy->onnxruntime>=1.14.1->chromadb) (1.3.0)\n",
      "Downloading chromadb-1.0.12-cp39-abi3-win_amd64.whl (19.3 MB)\n",
      "   ---------------------------------------- 0.0/19.3 MB ? eta -:--:--\n",
      "   -- ------------------------------------- 1.0/19.3 MB 7.2 MB/s eta 0:00:03\n",
      "   ------ --------------------------------- 3.1/19.3 MB 8.8 MB/s eta 0:00:02\n",
      "   --------------- ------------------------ 7.3/19.3 MB 12.9 MB/s eta 0:00:01\n",
      "   --------------------------- ------------ 13.4/19.3 MB 17.1 MB/s eta 0:00:01\n",
      "   ---------------------------------------- 19.3/19.3 MB 21.0 MB/s eta 0:00:00\n",
      "Downloading fastapi-0.115.9-py3-none-any.whl (94 kB)\n",
      "Downloading starlette-0.45.3-py3-none-any.whl (71 kB)\n",
      "Downloading bcrypt-4.3.0-cp39-abi3-win_amd64.whl (152 kB)\n",
      "Downloading build-1.2.2.post1-py3-none-any.whl (22 kB)\n",
      "Downloading kubernetes-33.1.0-py2.py3-none-any.whl (1.9 MB)\n",
      "   ---------------------------------------- 0.0/1.9 MB ? eta -:--:--\n",
      "   ---------------------------------------- 1.9/1.9 MB 35.7 MB/s eta 0:00:00\n",
      "Downloading durationpy-0.10-py3-none-any.whl (3.9 kB)\n",
      "Downloading google_auth-2.40.3-py2.py3-none-any.whl (216 kB)\n",
      "Downloading cachetools-5.5.2-py3-none-any.whl (10 kB)\n",
      "Downloading rsa-4.9.1-py3-none-any.whl (34 kB)\n",
      "Downloading mmh3-5.1.0-cp311-cp311-win_amd64.whl (41 kB)\n",
      "Downloading oauthlib-3.3.0-py3-none-any.whl (165 kB)\n",
      "Downloading onnxruntime-1.22.0-cp311-cp311-win_amd64.whl (12.7 MB)\n",
      "   ---------------------------------------- 0.0/12.7 MB ? eta -:--:--\n",
      "   --------- ------------------------------ 2.9/12.7 MB 13.9 MB/s eta 0:00:01\n",
      "   ------------------- -------------------- 6.0/12.7 MB 13.7 MB/s eta 0:00:01\n",
      "   ----------------------------------- ---- 11.3/12.7 MB 17.6 MB/s eta 0:00:01\n",
      "   ---------------------------------------- 12.7/12.7 MB 17.3 MB/s eta 0:00:00\n",
      "Downloading opentelemetry_api-1.34.1-py3-none-any.whl (65 kB)\n",
      "Downloading importlib_metadata-8.7.0-py3-none-any.whl (27 kB)\n",
      "Downloading opentelemetry_exporter_otlp_proto_grpc-1.34.1-py3-none-any.whl (18 kB)\n",
      "Downloading opentelemetry_exporter_otlp_proto_common-1.34.1-py3-none-any.whl (18 kB)\n",
      "Downloading opentelemetry_proto-1.34.1-py3-none-any.whl (55 kB)\n",
      "Downloading googleapis_common_protos-1.70.0-py3-none-any.whl (294 kB)\n",
      "Downloading opentelemetry_sdk-1.34.1-py3-none-any.whl (118 kB)\n",
      "Downloading opentelemetry_semantic_conventions-0.55b1-py3-none-any.whl (196 kB)\n",
      "Downloading opentelemetry_instrumentation_fastapi-0.55b1-py3-none-any.whl (12 kB)\n",
      "Downloading opentelemetry_instrumentation-0.55b1-py3-none-any.whl (31 kB)\n",
      "Downloading opentelemetry_instrumentation_asgi-0.55b1-py3-none-any.whl (16 kB)\n",
      "Downloading opentelemetry_util_http-0.55b1-py3-none-any.whl (7.3 kB)\n",
      "Downloading asgiref-3.8.1-py3-none-any.whl (23 kB)\n",
      "Downloading posthog-5.0.0-py3-none-any.whl (100 kB)\n",
      "Downloading backoff-2.2.1-py3-none-any.whl (15 kB)\n",
      "Downloading pyasn1-0.6.1-py3-none-any.whl (83 kB)\n",
      "Downloading pyasn1_modules-0.4.2-py3-none-any.whl (181 kB)\n",
      "Downloading httptools-0.6.4-cp311-cp311-win_amd64.whl (88 kB)\n",
      "Downloading watchfiles-1.1.0-cp311-cp311-win_amd64.whl (292 kB)\n",
      "Downloading zipp-3.23.0-py3-none-any.whl (10 kB)\n",
      "Downloading coloredlogs-15.0.1-py2.py3-none-any.whl (46 kB)\n",
      "Downloading humanfriendly-10.0-py2.py3-none-any.whl (86 kB)\n",
      "Downloading importlib_resources-6.5.2-py3-none-any.whl (37 kB)\n",
      "Downloading pyproject_hooks-1.2.0-py3-none-any.whl (10 kB)\n",
      "Downloading pyreadline3-3.5.4-py3-none-any.whl (83 kB)\n",
      "Downloading requests_oauthlib-2.0.0-py2.py3-none-any.whl (24 kB)\n",
      "Building wheels for collected packages: pypika\n",
      "  Building wheel for pypika (pyproject.toml): started\n",
      "  Building wheel for pypika (pyproject.toml): finished with status 'done'\n",
      "  Created wheel for pypika: filename=pypika-0.48.9-py2.py3-none-any.whl size=53916 sha256=aea04a6d23db7ccef37fd19bfcd856948749a6da8ebbfac8b982141c8ae94009\n",
      "  Stored in directory: c:\\users\\karel\\appdata\\local\\packages\\pythonsoftwarefoundation.python.3.11_qbz5n2kfra8p0\\localcache\\local\\pip\\cache\\wheels\\a3\\01\\bd\\4c40ceb9d5354160cb186dcc153360f4ab7eb23e2b24daf96d\n",
      "Successfully built pypika\n",
      "Installing collected packages: pypika, durationpy, zipp, pyreadline3, pyproject_hooks, pyasn1, opentelemetry-util-http, opentelemetry-proto, oauthlib, mmh3, importlib-resources, httptools, googleapis-common-protos, cachetools, bcrypt, backoff, asgiref, watchfiles, starlette, rsa, requests-oauthlib, pyasn1-modules, posthog, opentelemetry-exporter-otlp-proto-common, importlib-metadata, humanfriendly, build, opentelemetry-api, google-auth, fastapi, coloredlogs, opentelemetry-semantic-conventions, onnxruntime, kubernetes, opentelemetry-sdk, opentelemetry-instrumentation, opentelemetry-instrumentation-asgi, opentelemetry-exporter-otlp-proto-grpc, opentelemetry-instrumentation-fastapi, chromadb\n",
      "\n",
      "   ----------------------------------------  0/40 [pypika]\n",
      "   -- -------------------------------------  2/40 [zipp]\n",
      "   --- ------------------------------------  3/40 [pyreadline3]\n",
      "   --- ------------------------------------  3/40 [pyreadline3]\n",
      "   --- ------------------------------------  3/40 [pyreadline3]\n",
      "   --- ------------------------------------  3/40 [pyreadline3]\n",
      "   --- ------------------------------------  3/40 [pyreadline3]\n",
      "   ----- ----------------------------------  5/40 [pyasn1]\n",
      "   ----- ----------------------------------  5/40 [pyasn1]\n",
      "   ----- ----------------------------------  5/40 [pyasn1]\n",
      "   ----- ----------------------------------  5/40 [pyasn1]\n",
      "   ------ ---------------------------------  6/40 [opentelemetry-util-http]\n",
      "   ------- --------------------------------  7/40 [opentelemetry-proto]\n",
      "   ------- --------------------------------  7/40 [opentelemetry-proto]\n",
      "   -------- -------------------------------  8/40 [oauthlib]\n",
      "   -------- -------------------------------  8/40 [oauthlib]\n",
      "   -------- -------------------------------  8/40 [oauthlib]\n",
      "   -------- -------------------------------  8/40 [oauthlib]\n",
      "   -------- -------------------------------  8/40 [oauthlib]\n",
      "   -------- -------------------------------  8/40 [oauthlib]\n",
      "   -------- -------------------------------  8/40 [oauthlib]\n",
      "   -------- -------------------------------  8/40 [oauthlib]\n",
      "   -------- -------------------------------  8/40 [oauthlib]\n",
      "   -------- -------------------------------  8/40 [oauthlib]\n",
      "   -------- -------------------------------  8/40 [oauthlib]\n",
      "   ---------- ----------------------------- 10/40 [importlib-resources]\n",
      "   ---------- ----------------------------- 10/40 [importlib-resources]\n",
      "   ---------- ----------------------------- 10/40 [importlib-resources]\n",
      "   ----------- ---------------------------- 11/40 [httptools]\n",
      "   ------------ --------------------------- 12/40 [googleapis-common-protos]\n",
      "   ------------ --------------------------- 12/40 [googleapis-common-protos]\n",
      "   ------------ --------------------------- 12/40 [googleapis-common-protos]\n",
      "   ------------ --------------------------- 12/40 [googleapis-common-protos]\n",
      "   ------------ --------------------------- 12/40 [googleapis-common-protos]\n",
      "   ------------ --------------------------- 12/40 [googleapis-common-protos]\n",
      "   ------------ --------------------------- 12/40 [googleapis-common-protos]\n",
      "   ------------ --------------------------- 12/40 [googleapis-common-protos]\n",
      "   ------------ --------------------------- 12/40 [googleapis-common-protos]\n",
      "   ------------ --------------------------- 12/40 [googleapis-common-protos]\n",
      "   ------------ --------------------------- 12/40 [googleapis-common-protos]\n",
      "   ------------ --------------------------- 12/40 [googleapis-common-protos]\n",
      "   ------------ --------------------------- 12/40 [googleapis-common-protos]\n",
      "   ------------- -------------------------- 13/40 [cachetools]\n",
      "   --------------- ------------------------ 15/40 [backoff]\n",
      "   ---------------- ----------------------- 16/40 [asgiref]\n",
      "   ----------------- ---------------------- 17/40 [watchfiles]\n",
      "   ----------------- ---------------------- 17/40 [watchfiles]\n",
      "  Attempting uninstall: starlette\n",
      "   ----------------- ---------------------- 17/40 [watchfiles]\n",
      "   ------------------ --------------------- 18/40 [starlette]\n",
      "    Found existing installation: starlette 0.46.2\n",
      "   ------------------ --------------------- 18/40 [starlette]\n",
      "    Uninstalling starlette-0.46.2:\n",
      "   ------------------ --------------------- 18/40 [starlette]\n",
      "      Successfully uninstalled starlette-0.46.2\n",
      "   ------------------ --------------------- 18/40 [starlette]\n",
      "   ------------------ --------------------- 18/40 [starlette]\n",
      "   ------------------ --------------------- 18/40 [starlette]\n",
      "   ------------------ --------------------- 18/40 [starlette]\n",
      "   ------------------ --------------------- 18/40 [starlette]\n",
      "   ------------------ --------------------- 18/40 [starlette]\n",
      "   ------------------- -------------------- 19/40 [rsa]\n",
      "   ------------------- -------------------- 19/40 [rsa]\n",
      "   ------------------- -------------------- 19/40 [rsa]\n",
      "   ------------------- -------------------- 19/40 [rsa]\n",
      "   ------------------- -------------------- 19/40 [rsa]\n",
      "   ------------------- -------------------- 19/40 [rsa]\n",
      "   ------------------- -------------------- 19/40 [rsa]\n",
      "   ------------------- -------------------- 19/40 [rsa]\n",
      "   -------------------- ------------------- 20/40 [requests-oauthlib]\n",
      "   -------------------- ------------------- 20/40 [requests-oauthlib]\n",
      "   --------------------- ------------------ 21/40 [pyasn1-modules]\n",
      "   --------------------- ------------------ 21/40 [pyasn1-modules]\n",
      "   --------------------- ------------------ 21/40 [pyasn1-modules]\n",
      "   --------------------- ------------------ 21/40 [pyasn1-modules]\n",
      "   --------------------- ------------------ 21/40 [pyasn1-modules]\n",
      "   --------------------- ------------------ 21/40 [pyasn1-modules]\n",
      "   --------------------- ------------------ 21/40 [pyasn1-modules]\n",
      "   --------------------- ------------------ 21/40 [pyasn1-modules]\n",
      "   --------------------- ------------------ 21/40 [pyasn1-modules]\n",
      "   --------------------- ------------------ 21/40 [pyasn1-modules]\n",
      "   --------------------- ------------------ 21/40 [pyasn1-modules]\n",
      "   --------------------- ------------------ 21/40 [pyasn1-modules]\n",
      "   --------------------- ------------------ 21/40 [pyasn1-modules]\n",
      "   --------------------- ------------------ 21/40 [pyasn1-modules]\n",
      "   --------------------- ------------------ 21/40 [pyasn1-modules]\n",
      "   --------------------- ------------------ 21/40 [pyasn1-modules]\n",
      "   --------------------- ------------------ 21/40 [pyasn1-modules]\n",
      "   ---------------------- ----------------- 22/40 [posthog]\n",
      "   ---------------------- ----------------- 22/40 [posthog]\n",
      "   ---------------------- ----------------- 22/40 [posthog]\n",
      "   ---------------------- ----------------- 22/40 [posthog]\n",
      "   ---------------------- ----------------- 22/40 [posthog]\n",
      "   ---------------------- ----------------- 22/40 [posthog]\n",
      "   --------------- ----------- 23/40 [opentelemetry-exporter-otlp-proto-common]\n",
      "   ------------------------ --------------- 24/40 [importlib-metadata]\n",
      "   ------------------------ --------------- 24/40 [importlib-metadata]\n",
      "   ------------------------- -------------- 25/40 [humanfriendly]\n",
      "   ------------------------- -------------- 25/40 [humanfriendly]\n",
      "   ------------------------- -------------- 25/40 [humanfriendly]\n",
      "   -------------------------- ------------- 26/40 [build]\n",
      "   -------------------------- ------------- 26/40 [build]\n",
      "   -------------------------- ------------- 26/40 [build]\n",
      "   --------------------------- ------------ 27/40 [opentelemetry-api]\n",
      "   --------------------------- ------------ 27/40 [opentelemetry-api]\n",
      "   --------------------------- ------------ 27/40 [opentelemetry-api]\n",
      "   --------------------------- ------------ 27/40 [opentelemetry-api]\n",
      "   ---------------------------- ----------- 28/40 [google-auth]\n",
      "   ---------------------------- ----------- 28/40 [google-auth]\n",
      "   ---------------------------- ----------- 28/40 [google-auth]\n",
      "   ---------------------------- ----------- 28/40 [google-auth]\n",
      "   ---------------------------- ----------- 28/40 [google-auth]\n",
      "   ---------------------------- ----------- 28/40 [google-auth]\n",
      "   ---------------------------- ----------- 28/40 [google-auth]\n",
      "   ---------------------------- ----------- 28/40 [google-auth]\n",
      "   ---------------------------- ----------- 28/40 [google-auth]\n",
      "   ---------------------------- ----------- 28/40 [google-auth]\n",
      "  Attempting uninstall: fastapi\n",
      "   ---------------------------- ----------- 28/40 [google-auth]\n",
      "   ----------------------------- ---------- 29/40 [fastapi]\n",
      "    Found existing installation: fastapi 0.115.12\n",
      "   ----------------------------- ---------- 29/40 [fastapi]\n",
      "    Uninstalling fastapi-0.115.12:\n",
      "   ----------------------------- ---------- 29/40 [fastapi]\n",
      "      Successfully uninstalled fastapi-0.115.12\n",
      "   ----------------------------- ---------- 29/40 [fastapi]\n",
      "   ----------------------------- ---------- 29/40 [fastapi]\n",
      "   ----------------------------- ---------- 29/40 [fastapi]\n",
      "   ----------------------------- ---------- 29/40 [fastapi]\n",
      "   ----------------------------- ---------- 29/40 [fastapi]\n",
      "   ----------------------------- ---------- 29/40 [fastapi]\n",
      "   ----------------------------- ---------- 29/40 [fastapi]\n",
      "   ----------------------------- ---------- 29/40 [fastapi]\n",
      "   ------------------------------ --------- 30/40 [coloredlogs]\n",
      "   ------------------------------ --------- 30/40 [coloredlogs]\n",
      "   ------------------------- ------- 31/40 [opentelemetry-semantic-conventions]\n",
      "   ------------------------- ------- 31/40 [opentelemetry-semantic-conventions]\n",
      "   ------------------------- ------- 31/40 [opentelemetry-semantic-conventions]\n",
      "   ------------------------- ------- 31/40 [opentelemetry-semantic-conventions]\n",
      "   ------------------------- ------- 31/40 [opentelemetry-semantic-conventions]\n",
      "   ------------------------- ------- 31/40 [opentelemetry-semantic-conventions]\n",
      "   ------------------------- ------- 31/40 [opentelemetry-semantic-conventions]\n",
      "   ------------------------- ------- 31/40 [opentelemetry-semantic-conventions]\n",
      "   ------------------------- ------- 31/40 [opentelemetry-semantic-conventions]\n",
      "   ------------------------- ------- 31/40 [opentelemetry-semantic-conventions]\n",
      "   ------------------------- ------- 31/40 [opentelemetry-semantic-conventions]\n",
      "   ------------------------- ------- 31/40 [opentelemetry-semantic-conventions]\n",
      "   ------------------------- ------- 31/40 [opentelemetry-semantic-conventions]\n",
      "   ------------------------- ------- 31/40 [opentelemetry-semantic-conventions]\n",
      "   -------------------------------- ------- 32/40 [onnxruntime]\n",
      "   -------------------------------- ------- 32/40 [onnxruntime]\n",
      "   -------------------------------- ------- 32/40 [onnxruntime]\n",
      "   -------------------------------- ------- 32/40 [onnxruntime]\n",
      "   -------------------------------- ------- 32/40 [onnxruntime]\n",
      "   -------------------------------- ------- 32/40 [onnxruntime]\n",
      "   -------------------------------- ------- 32/40 [onnxruntime]\n",
      "   -------------------------------- ------- 32/40 [onnxruntime]\n",
      "   -------------------------------- ------- 32/40 [onnxruntime]\n",
      "   -------------------------------- ------- 32/40 [onnxruntime]\n",
      "   -------------------------------- ------- 32/40 [onnxruntime]\n",
      "   -------------------------------- ------- 32/40 [onnxruntime]\n",
      "   -------------------------------- ------- 32/40 [onnxruntime]\n",
      "   -------------------------------- ------- 32/40 [onnxruntime]\n",
      "   -------------------------------- ------- 32/40 [onnxruntime]\n",
      "   -------------------------------- ------- 32/40 [onnxruntime]\n",
      "   -------------------------------- ------- 32/40 [onnxruntime]\n",
      "   -------------------------------- ------- 32/40 [onnxruntime]\n",
      "   -------------------------------- ------- 32/40 [onnxruntime]\n",
      "   -------------------------------- ------- 32/40 [onnxruntime]\n",
      "   -------------------------------- ------- 32/40 [onnxruntime]\n",
      "   -------------------------------- ------- 32/40 [onnxruntime]\n",
      "   -------------------------------- ------- 32/40 [onnxruntime]\n",
      "   -------------------------------- ------- 32/40 [onnxruntime]\n",
      "   -------------------------------- ------- 32/40 [onnxruntime]\n",
      "   -------------------------------- ------- 32/40 [onnxruntime]\n",
      "   -------------------------------- ------- 32/40 [onnxruntime]\n",
      "   -------------------------------- ------- 32/40 [onnxruntime]\n",
      "   -------------------------------- ------- 32/40 [onnxruntime]\n",
      "   -------------------------------- ------- 32/40 [onnxruntime]\n",
      "   -------------------------------- ------- 32/40 [onnxruntime]\n",
      "   -------------------------------- ------- 32/40 [onnxruntime]\n",
      "   -------------------------------- ------- 32/40 [onnxruntime]\n",
      "   -------------------------------- ------- 32/40 [onnxruntime]\n",
      "   -------------------------------- ------- 32/40 [onnxruntime]\n",
      "   -------------------------------- ------- 32/40 [onnxruntime]\n",
      "   -------------------------------- ------- 32/40 [onnxruntime]\n",
      "   -------------------------------- ------- 32/40 [onnxruntime]\n",
      "   -------------------------------- ------- 32/40 [onnxruntime]\n",
      "   -------------------------------- ------- 32/40 [onnxruntime]\n",
      "   --------------------------------- ------ 33/40 [kubernetes]\n",
      "   --------------------------------- ------ 33/40 [kubernetes]\n",
      "   --------------------------------- ------ 33/40 [kubernetes]\n",
      "   --------------------------------- ------ 33/40 [kubernetes]\n",
      "   --------------------------------- ------ 33/40 [kubernetes]\n",
      "   --------------------------------- ------ 33/40 [kubernetes]\n",
      "   --------------------------------- ------ 33/40 [kubernetes]\n",
      "   --------------------------------- ------ 33/40 [kubernetes]\n",
      "   --------------------------------- ------ 33/40 [kubernetes]\n",
      "   --------------------------------- ------ 33/40 [kubernetes]\n",
      "   --------------------------------- ------ 33/40 [kubernetes]\n",
      "   --------------------------------- ------ 33/40 [kubernetes]\n",
      "   --------------------------------- ------ 33/40 [kubernetes]\n",
      "   --------------------------------- ------ 33/40 [kubernetes]\n",
      "   --------------------------------- ------ 33/40 [kubernetes]\n",
      "   --------------------------------- ------ 33/40 [kubernetes]\n",
      "   --------------------------------- ------ 33/40 [kubernetes]\n",
      "   --------------------------------- ------ 33/40 [kubernetes]\n",
      "   --------------------------------- ------ 33/40 [kubernetes]\n",
      "   --------------------------------- ------ 33/40 [kubernetes]\n",
      "   --------------------------------- ------ 33/40 [kubernetes]\n",
      "   --------------------------------- ------ 33/40 [kubernetes]\n",
      "   --------------------------------- ------ 33/40 [kubernetes]\n",
      "   --------------------------------- ------ 33/40 [kubernetes]\n",
      "   --------------------------------- ------ 33/40 [kubernetes]\n",
      "   --------------------------------- ------ 33/40 [kubernetes]\n",
      "   --------------------------------- ------ 33/40 [kubernetes]\n",
      "   --------------------------------- ------ 33/40 [kubernetes]\n",
      "   --------------------------------- ------ 33/40 [kubernetes]\n",
      "   --------------------------------- ------ 33/40 [kubernetes]\n",
      "   --------------------------------- ------ 33/40 [kubernetes]\n",
      "   --------------------------------- ------ 33/40 [kubernetes]\n",
      "   --------------------------------- ------ 33/40 [kubernetes]\n",
      "   --------------------------------- ------ 33/40 [kubernetes]\n",
      "   --------------------------------- ------ 33/40 [kubernetes]\n",
      "   --------------------------------- ------ 33/40 [kubernetes]\n",
      "   --------------------------------- ------ 33/40 [kubernetes]\n",
      "   --------------------------------- ------ 33/40 [kubernetes]\n",
      "   --------------------------------- ------ 33/40 [kubernetes]\n",
      "   --------------------------------- ------ 33/40 [kubernetes]\n",
      "   --------------------------------- ------ 33/40 [kubernetes]\n",
      "   --------------------------------- ------ 33/40 [kubernetes]\n",
      "   --------------------------------- ------ 33/40 [kubernetes]\n",
      "   --------------------------------- ------ 33/40 [kubernetes]\n",
      "   --------------------------------- ------ 33/40 [kubernetes]\n",
      "   --------------------------------- ------ 33/40 [kubernetes]\n",
      "   --------------------------------- ------ 33/40 [kubernetes]\n",
      "   --------------------------------- ------ 33/40 [kubernetes]\n",
      "   --------------------------------- ------ 33/40 [kubernetes]\n",
      "   --------------------------------- ------ 33/40 [kubernetes]\n",
      "   --------------------------------- ------ 33/40 [kubernetes]\n",
      "   --------------------------------- ------ 33/40 [kubernetes]\n",
      "   --------------------------------- ------ 33/40 [kubernetes]\n",
      "   --------------------------------- ------ 33/40 [kubernetes]\n",
      "   --------------------------------- ------ 33/40 [kubernetes]\n",
      "   --------------------------------- ------ 33/40 [kubernetes]\n",
      "   --------------------------------- ------ 33/40 [kubernetes]\n",
      "   --------------------------------- ------ 33/40 [kubernetes]\n",
      "   --------------------------------- ------ 33/40 [kubernetes]\n",
      "   --------------------------------- ------ 33/40 [kubernetes]\n",
      "   --------------------------------- ------ 33/40 [kubernetes]\n",
      "   --------------------------------- ------ 33/40 [kubernetes]\n",
      "   --------------------------------- ------ 33/40 [kubernetes]\n",
      "   --------------------------------- ------ 33/40 [kubernetes]\n",
      "   --------------------------------- ------ 33/40 [kubernetes]\n",
      "   --------------------------------- ------ 33/40 [kubernetes]\n",
      "   --------------------------------- ------ 33/40 [kubernetes]\n",
      "   --------------------------------- ------ 33/40 [kubernetes]\n",
      "   --------------------------------- ------ 33/40 [kubernetes]\n",
      "   --------------------------------- ------ 33/40 [kubernetes]\n",
      "   --------------------------------- ------ 33/40 [kubernetes]\n",
      "   --------------------------------- ------ 33/40 [kubernetes]\n",
      "   --------------------------------- ------ 33/40 [kubernetes]\n",
      "   --------------------------------- ------ 33/40 [kubernetes]\n",
      "   --------------------------------- ------ 33/40 [kubernetes]\n",
      "   --------------------------------- ------ 33/40 [kubernetes]\n",
      "   --------------------------------- ------ 33/40 [kubernetes]\n",
      "   --------------------------------- ------ 33/40 [kubernetes]\n",
      "   --------------------------------- ------ 33/40 [kubernetes]\n",
      "   --------------------------------- ------ 33/40 [kubernetes]\n",
      "   --------------------------------- ------ 33/40 [kubernetes]\n",
      "   --------------------------------- ------ 33/40 [kubernetes]\n",
      "   --------------------------------- ------ 33/40 [kubernetes]\n",
      "   --------------------------------- ------ 33/40 [kubernetes]\n",
      "   --------------------------------- ------ 33/40 [kubernetes]\n",
      "   --------------------------------- ------ 33/40 [kubernetes]\n",
      "   --------------------------------- ------ 33/40 [kubernetes]\n",
      "   --------------------------------- ------ 33/40 [kubernetes]\n",
      "   --------------------------------- ------ 33/40 [kubernetes]\n",
      "   --------------------------------- ------ 33/40 [kubernetes]\n",
      "   --------------------------------- ------ 33/40 [kubernetes]\n",
      "   --------------------------------- ------ 33/40 [kubernetes]\n",
      "   --------------------------------- ------ 33/40 [kubernetes]\n",
      "   --------------------------------- ------ 33/40 [kubernetes]\n",
      "   --------------------------------- ------ 33/40 [kubernetes]\n",
      "   --------------------------------- ------ 33/40 [kubernetes]\n",
      "   --------------------------------- ------ 33/40 [kubernetes]\n",
      "   --------------------------------- ------ 33/40 [kubernetes]\n",
      "   --------------------------------- ------ 33/40 [kubernetes]\n",
      "   --------------------------------- ------ 33/40 [kubernetes]\n",
      "   --------------------------------- ------ 33/40 [kubernetes]\n",
      "   --------------------------------- ------ 33/40 [kubernetes]\n",
      "   --------------------------------- ------ 33/40 [kubernetes]\n",
      "   --------------------------------- ------ 33/40 [kubernetes]\n",
      "   --------------------------------- ------ 33/40 [kubernetes]\n",
      "   --------------------------------- ------ 33/40 [kubernetes]\n",
      "   --------------------------------- ------ 33/40 [kubernetes]\n",
      "   --------------------------------- ------ 33/40 [kubernetes]\n",
      "   --------------------------------- ------ 33/40 [kubernetes]\n",
      "   --------------------------------- ------ 33/40 [kubernetes]\n",
      "   --------------------------------- ------ 33/40 [kubernetes]\n",
      "   --------------------------------- ------ 33/40 [kubernetes]\n",
      "   --------------------------------- ------ 33/40 [kubernetes]\n",
      "   --------------------------------- ------ 33/40 [kubernetes]\n",
      "   --------------------------------- ------ 33/40 [kubernetes]\n",
      "   --------------------------------- ------ 33/40 [kubernetes]\n",
      "   --------------------------------- ------ 33/40 [kubernetes]\n",
      "   --------------------------------- ------ 33/40 [kubernetes]\n",
      "   --------------------------------- ------ 33/40 [kubernetes]\n",
      "   --------------------------------- ------ 33/40 [kubernetes]\n",
      "   --------------------------------- ------ 33/40 [kubernetes]\n",
      "   --------------------------------- ------ 33/40 [kubernetes]\n",
      "   --------------------------------- ------ 33/40 [kubernetes]\n",
      "   --------------------------------- ------ 33/40 [kubernetes]\n",
      "   ---------------------------------- ----- 34/40 [opentelemetry-sdk]\n",
      "   ---------------------------------- ----- 34/40 [opentelemetry-sdk]\n",
      "   ---------------------------------- ----- 34/40 [opentelemetry-sdk]\n",
      "   ---------------------------------- ----- 34/40 [opentelemetry-sdk]\n",
      "   ---------------------------------- ----- 34/40 [opentelemetry-sdk]\n",
      "   ---------------------------------- ----- 34/40 [opentelemetry-sdk]\n",
      "   --------------------------------- ---- 35/40 [opentelemetry-instrumentation]\n",
      "   --------------------------------- ---- 35/40 [opentelemetry-instrumentation]\n",
      "   --------------------------------- ---- 35/40 [opentelemetry-instrumentation]\n",
      "   --------------------------------- ---- 35/40 [opentelemetry-instrumentation]\n",
      "   -------------------------- -- 37/40 [opentelemetry-exporter-otlp-proto-grpc]\n",
      "   ---------------------------- - 38/40 [opentelemetry-instrumentation-fastapi]\n",
      "   ---------------------------------------  39/40 [chromadb]\n",
      "   ---------------------------------------  39/40 [chromadb]\n",
      "   ---------------------------------------  39/40 [chromadb]\n",
      "   ---------------------------------------  39/40 [chromadb]\n",
      "   ---------------------------------------  39/40 [chromadb]\n",
      "   ---------------------------------------  39/40 [chromadb]\n",
      "   ---------------------------------------  39/40 [chromadb]\n",
      "   ---------------------------------------  39/40 [chromadb]\n",
      "   ---------------------------------------  39/40 [chromadb]\n",
      "   ---------------------------------------  39/40 [chromadb]\n",
      "   ---------------------------------------  39/40 [chromadb]\n",
      "   ---------------------------------------  39/40 [chromadb]\n",
      "   ---------------------------------------  39/40 [chromadb]\n",
      "   ---------------------------------------  39/40 [chromadb]\n",
      "   ---------------------------------------  39/40 [chromadb]\n",
      "   ---------------------------------------  39/40 [chromadb]\n",
      "   ---------------------------------------  39/40 [chromadb]\n",
      "   ---------------------------------------  39/40 [chromadb]\n",
      "   ---------------------------------------  39/40 [chromadb]\n",
      "   ---------------------------------------  39/40 [chromadb]\n",
      "   ---------------------------------------  39/40 [chromadb]\n",
      "   ---------------------------------------  39/40 [chromadb]\n",
      "   ---------------------------------------  39/40 [chromadb]\n",
      "   ---------------------------------------  39/40 [chromadb]\n",
      "   ---------------------------------------  39/40 [chromadb]\n",
      "   ---------------------------------------  39/40 [chromadb]\n",
      "   ---------------------------------------  39/40 [chromadb]\n",
      "   ---------------------------------------- 40/40 [chromadb]\n",
      "\n",
      "Successfully installed asgiref-3.8.1 backoff-2.2.1 bcrypt-4.3.0 build-1.2.2.post1 cachetools-5.5.2 chromadb-1.0.12 coloredlogs-15.0.1 durationpy-0.10 fastapi-0.115.9 google-auth-2.40.3 googleapis-common-protos-1.70.0 httptools-0.6.4 humanfriendly-10.0 importlib-metadata-8.7.0 importlib-resources-6.5.2 kubernetes-33.1.0 mmh3-5.1.0 oauthlib-3.3.0 onnxruntime-1.22.0 opentelemetry-api-1.34.1 opentelemetry-exporter-otlp-proto-common-1.34.1 opentelemetry-exporter-otlp-proto-grpc-1.34.1 opentelemetry-instrumentation-0.55b1 opentelemetry-instrumentation-asgi-0.55b1 opentelemetry-instrumentation-fastapi-0.55b1 opentelemetry-proto-1.34.1 opentelemetry-sdk-1.34.1 opentelemetry-semantic-conventions-0.55b1 opentelemetry-util-http-0.55b1 posthog-5.0.0 pyasn1-0.6.1 pyasn1-modules-0.4.2 pypika-0.48.9 pyproject_hooks-1.2.0 pyreadline3-3.5.4 requests-oauthlib-2.0.0 rsa-4.9.1 starlette-0.45.3 watchfiles-1.1.0 zipp-3.23.0\n"
     ]
    }
   ],
   "source": [
    "!pip install chromadb langchain langchain_community langchain_openai"
   ]
  },
  {
   "cell_type": "code",
   "execution_count": 2,
   "id": "2868cff1-a3ef-426f-b8d7-7fe89047a5b7",
   "metadata": {
    "tags": []
   },
   "outputs": [],
   "source": [
    "from langchain.chains import RetrievalQA\n",
    "from langchain_community.vectorstores import Chroma\n",
    "from langchain_openai import OpenAI, OpenAIEmbeddings\n",
    "from langchain_text_splitters import CharacterTextSplitter\n",
    "from langchain_community.document_loaders import TextLoader"
   ]
  },
  {
   "cell_type": "code",
   "execution_count": 7,
   "id": "aeff3a2d-b0cc-429f-a34c-4381d71f1a5f",
   "metadata": {
    "tags": []
   },
   "outputs": [],
   "source": [
    "import os\n",
    "from dotenv import load_dotenv, find_dotenv\n",
    "_ = load_dotenv(find_dotenv())\n",
    "\n",
    "OPENAI_API_KEY  = os.getenv('OPENAI_TEST_KEY_KdR')\n",
    "\n",
    "# test if the key is loaded correctly\n",
    "if OPENAI_API_KEY is None:\n",
    "    raise ValueError(\"OPENAI_API_KEY is not set. Please set it in your environment variables.\")\n"
   ]
  },
  {
   "cell_type": "code",
   "execution_count": null,
   "id": "f16d010b",
   "metadata": {},
   "outputs": [],
   "source": [
    "# If you're using colab, run this\n",
    "#os.environ['OPENAI_API_KEY'] = \"YOUR_OPENAI_API_KEY\""
   ]
  },
  {
   "cell_type": "code",
   "execution_count": 36,
   "id": "14331eec-fd46-42e0-b6e7-adaf21824ef7",
   "metadata": {
    "tags": []
   },
   "outputs": [],
   "source": [
    "\n",
    "from langchain_openai import OpenAI, ChatOpenAI, OpenAIEmbeddings\n",
    "\n",
    "llm = ChatOpenAI(\n",
    "    model_name=\"gpt-3.5-turbo\",\n",
    "    openai_api_key=OPENAI_API_KEY,\n",
    "    temperature=0.5,\n",
    ")"
   ]
  },
  {
   "cell_type": "code",
   "execution_count": 9,
   "id": "0b7b772b",
   "metadata": {
    "tags": []
   },
   "outputs": [],
   "source": [
    "from pathlib import Path\n",
    "\n",
    "relevant_parts = []\n",
    "for p in Path(\".\").absolute().parts:\n",
    "    relevant_parts.append(p)\n",
    "    if relevant_parts[-3:] == [\"langchain\", \"docs\", \"modules\"]:\n",
    "        break\n",
    "doc_path = str(Path(*relevant_parts) / \"state_of_the_union.txt\")"
   ]
  },
  {
   "cell_type": "code",
   "execution_count": 20,
   "id": "f2675861",
   "metadata": {
    "tags": []
   },
   "outputs": [],
   "source": [
    "import os\n",
    "\n",
    "if not os.path.exists(doc_path):\n",
    "\traise FileNotFoundError(f\"File not found: {doc_path}\")\n",
    "\n",
    "loader = TextLoader(doc_path, encoding=\"utf-8\")\n",
    "documents = loader.load()\n",
    "text_splitter = CharacterTextSplitter(chunk_size=1000, chunk_overlap=0)\n",
    "texts = text_splitter.split_documents(documents)\n",
    "\n",
    "embeddings = OpenAIEmbeddings(api_key = OPENAI_API_KEY)\n",
    "docsearch = Chroma.from_documents(texts, embeddings, collection_name=\"state_of_the_union.txt\")"
   ]
  },
  {
   "cell_type": "code",
   "execution_count": 21,
   "id": "bc5403d4",
   "metadata": {
    "tags": []
   },
   "outputs": [],
   "source": [
    "state_of_union = RetrievalQA.from_chain_type(\n",
    "    llm=llm, chain_type=\"stuff\", retriever=docsearch.as_retriever()\n",
    ")"
   ]
  },
  {
   "cell_type": "code",
   "execution_count": 22,
   "id": "1431cded",
   "metadata": {
    "tags": []
   },
   "outputs": [
    {
     "name": "stderr",
     "output_type": "stream",
     "text": [
      "USER_AGENT environment variable not set, consider setting it to identify your requests.\n"
     ]
    }
   ],
   "source": [
    "from langchain_community.document_loaders import WebBaseLoader"
   ]
  },
  {
   "cell_type": "code",
   "execution_count": 23,
   "id": "915d3ff3",
   "metadata": {
    "tags": []
   },
   "outputs": [],
   "source": [
    "loader = WebBaseLoader(\"https://beta.ruff.rs/docs/faq/\")"
   ]
  },
  {
   "cell_type": "code",
   "execution_count": 24,
   "id": "96a2edf8",
   "metadata": {
    "tags": []
   },
   "outputs": [
    {
     "name": "stderr",
     "output_type": "stream",
     "text": [
      "Created a chunk of size 2122, which is longer than the specified 1000\n",
      "Created a chunk of size 3187, which is longer than the specified 1000\n",
      "Created a chunk of size 1017, which is longer than the specified 1000\n",
      "Created a chunk of size 1049, which is longer than the specified 1000\n",
      "Created a chunk of size 1256, which is longer than the specified 1000\n",
      "Created a chunk of size 2321, which is longer than the specified 1000\n"
     ]
    }
   ],
   "source": [
    "docs = loader.load()\n",
    "ruff_texts = text_splitter.split_documents(docs)\n",
    "ruff_db = Chroma.from_documents(ruff_texts, embeddings, collection_name=\"ruff\")\n",
    "ruff = RetrievalQA.from_chain_type(\n",
    "    llm=llm, chain_type=\"stuff\", retriever=ruff_db.as_retriever()\n",
    ")"
   ]
  },
  {
   "cell_type": "markdown",
   "id": "c0a6c031",
   "metadata": {},
   "source": [
    "## Create the Agent"
   ]
  },
  {
   "cell_type": "code",
   "execution_count": 25,
   "id": "eb142786",
   "metadata": {
    "tags": []
   },
   "outputs": [],
   "source": [
    "# Import things that are needed generically\n",
    "from langchain.agents import AgentType, Tool, initialize_agent\n",
    "from langchain_openai import OpenAI"
   ]
  },
  {
   "cell_type": "code",
   "execution_count": 26,
   "id": "850bc4e9",
   "metadata": {
    "tags": []
   },
   "outputs": [],
   "source": [
    "tools = [\n",
    "    Tool(\n",
    "        name=\"State of Union QA System\",\n",
    "        func=state_of_union.run,\n",
    "        description=\"useful for when you need to answer questions about the most recent state of the union address. Input should be a fully formed question.\",\n",
    "    ),\n",
    "    Tool(\n",
    "        name=\"Ruff QA System\",\n",
    "        func=ruff.run,\n",
    "        description=\"useful for when you need to answer questions about ruff (a python linter). Input should be a fully formed question.\",\n",
    "    ),\n",
    "]"
   ]
  },
  {
   "cell_type": "code",
   "execution_count": 27,
   "id": "fc47f230",
   "metadata": {
    "tags": []
   },
   "outputs": [
    {
     "name": "stderr",
     "output_type": "stream",
     "text": [
      "C:\\Users\\karel\\AppData\\Local\\Temp\\ipykernel_18292\\1834837320.py:3: LangChainDeprecationWarning: LangChain agents will continue to be supported, but it is recommended for new use cases to be built with LangGraph. LangGraph offers a more flexible and full-featured framework for building agents, including support for tool-calling, persistence of state, and human-in-the-loop workflows. For details, refer to the `LangGraph documentation <https://langchain-ai.github.io/langgraph/>`_ as well as guides for `Migrating from AgentExecutor <https://python.langchain.com/docs/how_to/migrate_agent/>`_ and LangGraph's `Pre-built ReAct agent <https://langchain-ai.github.io/langgraph/how-tos/create-react-agent/>`_.\n",
      "  agent = initialize_agent(\n"
     ]
    }
   ],
   "source": [
    "# Construct the agent. We will use the default agent type here.\n",
    "# See documentation for a full list of options.\n",
    "agent = initialize_agent(\n",
    "    tools, llm, agent=AgentType.ZERO_SHOT_REACT_DESCRIPTION, verbose=True\n",
    ")"
   ]
  },
  {
   "cell_type": "code",
   "execution_count": null,
   "id": "10ca2db8",
   "metadata": {
    "tags": []
   },
   "outputs": [
    {
     "name": "stdout",
     "output_type": "stream",
     "text": [
      "Response(id='resp_6852c76f07fc8191b0859f1c1b34844202b7b3ff75ac4dbd', created_at=1750255471.0, error=None, incomplete_details=None, instructions='You are a helpful assistant.', metadata={}, model='gpt-3.5-turbo-0125', object='response', output=[ResponseOutputMessage(id='msg_6852c76f4fe48191a82824dae8a79e7002b7b3ff75ac4dbd', content=[ResponseOutputText(annotations=[], text='In his State of the Union address on March 1, 2022, President Joe Biden praised Judge Ketanji Brown Jackson, his nominee for the Supreme Court, highlighting her qualifications, experience, and dedication to upholding the rule of law. Biden called her a \"brilliant legal mind with the utmost character and integrity\" and reiterated his belief that she will serve the nation with distinction on the Supreme Court if confirmed.', type='output_text', logprobs=None)], role='assistant', status='completed', type='message')], parallel_tool_calls=True, temperature=1.0, tool_choice='auto', tools=[], top_p=1.0, background=False, max_output_tokens=None, previous_response_id=None, reasoning=Reasoning(effort=None, generate_summary=None, summary=None), service_tier='default', status='completed', text=ResponseTextConfig(format=ResponseFormatText(type='text')), truncation='disabled', usage=ResponseUsage(input_tokens=37, input_tokens_details=InputTokensDetails(cached_tokens=0), output_tokens=87, output_tokens_details=OutputTokensDetails(reasoning_tokens=0), total_tokens=124), user=None, store=True)\n"
     ]
    }
   ],
   "source": [
    "from langchain_openai import ChatOpenAI\n",
    "from openai import OpenAI \n",
    "\n",
    "\n",
    "# Use a completion model for the agent\n",
    "\n",
    "agent_completion = initialize_agent(\n",
    "    tools, llm_completion, agent=AgentType.ZERO_SHOT_REACT_DESCRIPTION, verbose=True\n",
    ")\n",
    "\n",
    "client = OpenAI( api_key=OPENAI_API_KEY)\n",
    "\n",
    "prompt = \"What did biden say about ketanji brown jackson in the state of the union address?\"\n",
    "\n",
    "# Complete the prompt using the agent\n",
    "\n",
    "    \n",
    "\n"
   ]
  },
  {
   "cell_type": "code",
   "execution_count": 67,
   "id": "4e91b811",
   "metadata": {
    "tags": []
   },
   "outputs": [
    {
     "name": "stdout",
     "output_type": "stream",
     "text": [
      "Response(id='resp_6852c7f3d008819f83971b34e004ac7d0470883a8f0ea148', created_at=1750255603.0, error=None, incomplete_details=None, instructions='You are a helpful assistant.', metadata={}, model='gpt-3.5-turbo-0125', object='response', output=[ResponseOutputMessage(id='msg_6852c7f44d68819fad3858d3e7fc25100470883a8f0ea148', content=[ResponseOutputText(annotations=[], text='It seems like you might be referring to two different types of food for pets, such as dogs or cats. Without more context, it\\'s difficult to provide a specific answer. \\n\\nIf you are talking about dog food, \"ruff\" and \"flake\" are not standard terms related to dog food. Generally, it\\'s essential to choose a high-quality dog food that meets your pet\\'s nutritional needs based on factors like their age, size, breed, and health condition. \\n\\nIf you could provide more information or clarification, I would be happy to help further.', type='output_text', logprobs=None)], role='assistant', status='completed', type='message')], parallel_tool_calls=True, temperature=1.0, tool_choice='auto', tools=[], top_p=1.0, background=False, max_output_tokens=None, previous_response_id=None, reasoning=Reasoning(effort=None, generate_summary=None, summary=None), service_tier='default', status='completed', text=ResponseTextConfig(format=ResponseFormatText(type='text')), truncation='disabled', usage=ResponseUsage(input_tokens=25, input_tokens_details=InputTokensDetails(cached_tokens=0), output_tokens=114, output_tokens_details=OutputTokensDetails(reasoning_tokens=0), total_tokens=139), user=None, store=True)\n",
      "Response(id='resp_6852c7f3d008819f83971b34e004ac7d0470883a8f0ea148', created_at=1750255603.0, error=None, incomplete_details=None, instructions='You are a helpful assistant.', metadata={}, model='gpt-3.5-turbo-0125', object='response', output=[ResponseOutputMessage(id='msg_6852c7f44d68819fad3858d3e7fc25100470883a8f0ea148', content=[ResponseOutputText(annotations=[], text='It seems like you might be referring to two different types of food for pets, such as dogs or cats. Without more context, it\\'s difficult to provide a specific answer. \\n\\nIf you are talking about dog food, \"ruff\" and \"flake\" are not standard terms related to dog food. Generally, it\\'s essential to choose a high-quality dog food that meets your pet\\'s nutritional needs based on factors like their age, size, breed, and health condition. \\n\\nIf you could provide more information or clarification, I would be happy to help further.', type='output_text', logprobs=None)], role='assistant', status='completed', type='message')], parallel_tool_calls=True, temperature=1.0, tool_choice='auto', tools=[], top_p=1.0, background=False, max_output_tokens=None, previous_response_id=None, reasoning=Reasoning(effort=None, generate_summary=None, summary=None), service_tier='default', status='completed', text=ResponseTextConfig(format=ResponseFormatText(type='text')), truncation='disabled', usage=ResponseUsage(input_tokens=25, input_tokens_details=InputTokensDetails(cached_tokens=0), output_tokens=114, output_tokens_details=OutputTokensDetails(reasoning_tokens=0), total_tokens=139), user=None, store=True)\n"
     ]
    }
   ],
   "source": [
    "prompt = \"Why use ruff over flake?\"\n",
    "\n",
    "response = client.responses.create(\n",
    "    model=\"gpt-3.5-turbo\",\n",
    "    instructions = \"You are a helpful assistant.\",\n",
    "    input = prompt\n",
    ")\n",
    "\n",
    "print(response)\n",
    "print(response)\n"
   ]
  },
  {
   "cell_type": "markdown",
   "id": "787a9b5e",
   "metadata": {},
   "source": [
    "## Use the Agent solely as a router"
   ]
  },
  {
   "cell_type": "markdown",
   "id": "9161ba91",
   "metadata": {},
   "source": [
    "You can also set `return_direct=True` if you intend to use the agent as a router and just want to directly return the result of the RetrievalQAChain.\n",
    "\n",
    "Notice that in the above examples the agent did some extra work after querying the RetrievalQAChain. You can avoid that and just return the result directly."
   ]
  },
  {
   "cell_type": "code",
   "execution_count": 68,
   "id": "f59b377e",
   "metadata": {
    "tags": []
   },
   "outputs": [],
   "source": [
    "tools = [\n",
    "    Tool(\n",
    "        name=\"State of Union QA System\",\n",
    "        func=state_of_union.run,\n",
    "        description=\"useful for when you need to answer questions about the most recent state of the union address. Input should be a fully formed question.\",\n",
    "        return_direct=True,\n",
    "    ),\n",
    "    Tool(\n",
    "        name=\"Ruff QA System\",\n",
    "        func=ruff.run,\n",
    "        description=\"useful for when you need to answer questions about ruff (a python linter). Input should be a fully formed question.\",\n",
    "        return_direct=True,\n",
    "    ),\n",
    "]"
   ]
  },
  {
   "cell_type": "code",
   "execution_count": 46,
   "id": "8615707a",
   "metadata": {
    "tags": []
   },
   "outputs": [],
   "source": [
    "agent = initialize_agent(\n",
    "    tools, llm, agent=AgentType.ZERO_SHOT_REACT_DESCRIPTION, verbose=True\n",
    ")"
   ]
  },
  {
   "cell_type": "code",
   "execution_count": 48,
   "id": "36e718a9",
   "metadata": {
    "tags": []
   },
   "outputs": [
    {
     "name": "stdout",
     "output_type": "stream",
     "text": [
      "\n",
      "\n",
      "\u001b[1m> Entering new AgentExecutor chain...\u001b[0m\n",
      "\u001b[32;1m\u001b[1;3m I should use the State of Union QA System to answer this question\n",
      "Action: State of Union QA System\n",
      "Action Input: What did biden say about ketanji brown jackson in the state of the union address?\u001b[0m\n",
      "Observation: \u001b[36;1m\u001b[1;3m Biden mentioned that he nominated Circuit Court of Appeals Judge Ketanji Brown Jackson to serve on the United States Supreme Court, praising her as one of the nation's top legal minds who will continue Justice Breyer's legacy of excellence.\u001b[0m\n",
      "\u001b[32;1m\u001b[1;3m\u001b[0m\n",
      "\n",
      "\u001b[1m> Finished chain.\u001b[0m\n"
     ]
    },
    {
     "data": {
      "text/plain": [
       "{'input': 'What did biden say about ketanji brown jackson in the state of the union address?',\n",
       " 'output': \" Biden mentioned that he nominated Circuit Court of Appeals Judge Ketanji Brown Jackson to serve on the United States Supreme Court, praising her as one of the nation's top legal minds who will continue Justice Breyer's legacy of excellence.\"}"
      ]
     },
     "execution_count": 48,
     "metadata": {},
     "output_type": "execute_result"
    }
   ],
   "source": [
    "agent.invoke(\n",
    "    \"What did biden say about ketanji brown jackson in the state of the union address?\"\n",
    ")"
   ]
  },
  {
   "cell_type": "code",
   "execution_count": 50,
   "id": "edfd0a1a",
   "metadata": {
    "tags": []
   },
   "outputs": [
    {
     "name": "stdout",
     "output_type": "stream",
     "text": [
      "\n",
      "\n",
      "\u001b[1m> Entering new AgentExecutor chain...\u001b[0m\n",
      "\u001b[32;1m\u001b[1;3m You should always think about the differences between ruff and flake8\n",
      "Action: Ruff QA System\n",
      "Action Input: \"Why use ruff over flake8?\"\u001b[0m\n",
      "Observation: \u001b[33;1m\u001b[1;3m Ruff can replace multiple Flake8 plugins, has a larger rule set, and can automatically fix its own lint violations. It also supports Python versions from 3.7 onwards and does not require the installation of Rust. Additionally, Ruff can be used independently as a linter or formatter, and can be used alongside a type checker for more comprehensive error detection.\u001b[0m\n",
      "\u001b[32;1m\u001b[1;3m\u001b[0m\n",
      "\n",
      "\u001b[1m> Finished chain.\u001b[0m\n"
     ]
    },
    {
     "data": {
      "text/plain": [
       "{'input': 'Why use ruff over flake8?',\n",
       " 'output': ' Ruff can replace multiple Flake8 plugins, has a larger rule set, and can automatically fix its own lint violations. It also supports Python versions from 3.7 onwards and does not require the installation of Rust. Additionally, Ruff can be used independently as a linter or formatter, and can be used alongside a type checker for more comprehensive error detection.'}"
      ]
     },
     "execution_count": 50,
     "metadata": {},
     "output_type": "execute_result"
    }
   ],
   "source": [
    "agent.invoke(\"Why use ruff over flake8?\")"
   ]
  },
  {
   "cell_type": "markdown",
   "id": "49a0cbbe",
   "metadata": {},
   "source": [
    "## Multi-Hop vector store reasoning\n",
    "\n",
    "Because vector stores are easily usable as tools in agents, it is easy to use answer multi-hop questions that depend on vector stores using the existing agent framework."
   ]
  },
  {
   "cell_type": "code",
   "execution_count": 53,
   "id": "d397a233",
   "metadata": {
    "tags": []
   },
   "outputs": [],
   "source": [
    "tools = [\n",
    "    Tool(\n",
    "        name=\"State of Union QA System\",\n",
    "        func=state_of_union.run,\n",
    "        description=\"useful for when you need to answer questions about the most recent state of the union address. Input should be a fully formed question, not referencing any obscure pronouns from the conversation before.\",\n",
    "    ),\n",
    "    Tool(\n",
    "        name=\"Ruff QA System\",\n",
    "        func=ruff.run,\n",
    "        description=\"useful for when you need to answer questions about ruff (a python linter). Input should be a fully formed question, not referencing any obscure pronouns from the conversation before.\",\n",
    "    ),\n",
    "]"
   ]
  },
  {
   "cell_type": "code",
   "execution_count": 55,
   "id": "06157240",
   "metadata": {
    "tags": []
   },
   "outputs": [],
   "source": [
    "# Construct the agent. We will use the default agent type here.\n",
    "# See documentation for a full list of options.\n",
    "agent = initialize_agent(\n",
    "    tools, llm, agent=AgentType.ZERO_SHOT_REACT_DESCRIPTION, verbose=True\n",
    ")"
   ]
  },
  {
   "cell_type": "code",
   "execution_count": 57,
   "id": "b492b520",
   "metadata": {
    "tags": []
   },
   "outputs": [
    {
     "name": "stdout",
     "output_type": "stream",
     "text": [
      "\n",
      "\n",
      "\u001b[1m> Entering new AgentExecutor chain...\u001b[0m\n",
      "\u001b[32;1m\u001b[1;3m I should use the Ruff QA System to answer the first question and the State of Union QA System to answer the second question.\n",
      "Action: Ruff QA System\n",
      "Action Input: What tool does ruff use to run over Jupyter Notebooks?\u001b[0m\n",
      "Observation: \u001b[33;1m\u001b[1;3m Ruff integrates with nbQA, a tool for running linters and code formatters over Jupyter Notebooks.\u001b[0m\n",
      "Thought:\u001b[32;1m\u001b[1;3m I should use the State of Union QA System to answer the second question.\n",
      "Action: State of Union QA System\n",
      "Action Input: Did the president mention that tool in the state of the union?\u001b[0m\n",
      "Observation: \u001b[36;1m\u001b[1;3m\n",
      "No, the president did not mention a specific tool in the state of the union.\u001b[0m\n",
      "Thought:\u001b[32;1m\u001b[1;3m I now know the final answer.\n",
      "Final Answer: No, the president did not mention a specific tool in the state of the union.\u001b[0m\n",
      "\n",
      "\u001b[1m> Finished chain.\u001b[0m\n"
     ]
    },
    {
     "data": {
      "text/plain": [
       "{'input': 'What tool does ruff use to run over Jupyter Notebooks? Did the president mention that tool in the state of the union?',\n",
       " 'output': 'No, the president did not mention a specific tool in the state of the union.'}"
      ]
     },
     "execution_count": 57,
     "metadata": {},
     "output_type": "execute_result"
    }
   ],
   "source": [
    "agent.invoke(\n",
    "    \"What tool does ruff use to run over Jupyter Notebooks? Did the president mention that tool in the state of the union?\"\n",
    ")"
   ]
  }
 ],
 "metadata": {
  "kernelspec": {
   "display_name": "Python 3",
   "language": "python",
   "name": "python3"
  },
  "language_info": {
   "codemirror_mode": {
    "name": "ipython",
    "version": 3
   },
   "file_extension": ".py",
   "mimetype": "text/x-python",
   "name": "python",
   "nbconvert_exporter": "python",
   "pygments_lexer": "ipython3",
   "version": "3.11.9"
  }
 },
 "nbformat": 4,
 "nbformat_minor": 5
}
